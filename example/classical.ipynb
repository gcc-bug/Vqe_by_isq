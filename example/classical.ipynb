{
 "cells": [
  {
   "cell_type": "code",
   "execution_count": 1,
   "metadata": {},
   "outputs": [],
   "source": [
    "import numpy as np\n",
    "from scipy.linalg import block_diag\n",
    "np.set_printoptions(precision=4,suppress=True)"
   ]
  },
  {
   "cell_type": "code",
   "execution_count": 2,
   "metadata": {},
   "outputs": [],
   "source": [
    "# Pauli matrices\n",
    "I  = np.array([[ 1, 0],\n",
    "               [ 0, 1]])\n",
    "Sx = np.array([[ 0, 1],\n",
    "               [ 1, 0]])\n",
    "Sy = np.array([[ 0,-1j],\n",
    "               [1j, 0]])\n",
    "Sz = np.array([[ 1, 0],\n",
    "               [ 0,-1]])"
   ]
  },
  {
   "cell_type": "code",
   "execution_count": 3,
   "metadata": {},
   "outputs": [
    {
     "name": "stdout",
     "output_type": "stream",
     "text": [
      "Classical diagonalization: -1.1456295 Eh\n",
      "Exact (from G16):          -1.1457417 Eh\n"
     ]
    }
   ],
   "source": [
    "# See DOI: 10.1103/PhysRevX.6.031007\n",
    "g0 = -0.4804\n",
    "g1 = +0.3435\n",
    "g2 = -0.4347\n",
    "g3 = +0.5716\n",
    "g4 = +0.0910\n",
    "g5 = +0.0910\n",
    "\n",
    "nuclear_repulsion = 0.7055696146\n",
    "\n",
    "Hmol = (g0 * np.kron( I, I) + # g0 * I\n",
    "        g1 * np.kron( I,Sz) + # g1 * Z0\n",
    "        g2 * np.kron(Sz, I) + # g2 * Z1\n",
    "        g3 * np.kron(Sz,Sz) + # g3 * Z0Z1\n",
    "        g4 * np.kron(Sy,Sy) + # g4 * Y0Y1\n",
    "        g5 * np.kron(Sx,Sx))  # g5 * X0X1\n",
    "electronic_energy = np.linalg.eigvalsh(Hmol)[0] # take the lowest value\n",
    "print(\"Classical diagonalization: {:+2.8} Eh\".format(electronic_energy + nuclear_repulsion))\n",
    "print(\"Exact (from G16):          {:+2.8} Eh\".format(-1.1457416808))"
   ]
  }
 ],
 "metadata": {
  "kernelspec": {
   "display_name": "Python 3.9.7 64-bit",
   "language": "python",
   "name": "python3"
  },
  "language_info": {
   "codemirror_mode": {
    "name": "ipython",
    "version": 3
   },
   "file_extension": ".py",
   "mimetype": "text/x-python",
   "name": "python",
   "nbconvert_exporter": "python",
   "pygments_lexer": "ipython3",
   "version": "3.9.7"
  },
  "orig_nbformat": 4,
  "vscode": {
   "interpreter": {
    "hash": "5db3ebb87acd543dfb3e054fe50afe6126b5ad899d3200490f30915be7166edf"
   }
  }
 },
 "nbformat": 4,
 "nbformat_minor": 2
}
