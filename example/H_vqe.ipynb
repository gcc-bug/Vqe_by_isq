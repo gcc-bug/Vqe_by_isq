{
 "cells": [
  {
   "cell_type": "code",
   "execution_count": 6,
   "metadata": {},
   "outputs": [],
   "source": [
    "from isq import isq"
   ]
  },
  {
   "cell_type": "code",
   "execution_count": 7,
   "metadata": {},
   "outputs": [],
   "source": [
    "@isq.qpu(backend=\"simulate\", shots=100)\n",
    "#len(theta=1),E_N=5\n",
    "def H_2(theta,e_n):\n",
    "    '''\n",
    "    qbit q[2];\n",
    "    X<q[1]> ;\n",
    "\n",
    "    Ry(1.57)<q[0]>;\n",
    "    Rx(4.71)<q[1]>;\n",
    "    CNOT<q[0],q[1]>;\n",
    "    Rz(theta)<q[1]>;\n",
    "    CNOT<q[0],q[1]>;\n",
    "    Ry(4.71)<q[0]>;\n",
    "    Rx(1.57)<q[1]>;\n",
    "\n",
    "    if(e_n == 0){\n",
    "        M<q[0]>;\n",
    "    }\n",
    "    if(e_n==1){\n",
    "        M<q[1]>;\n",
    "    }\n",
    "    if(e_n==2){\n",
    "        M<q[0,1]>;\n",
    "    }\n",
    "    if(e_n==3){\n",
    "        Rx(1.57)<q[0]>;\n",
    "        Rx(1.57)<q[1]>;\n",
    "        M<q[0,1]>;\n",
    "    }\n",
    "    if(e_n==4){\n",
    "        H<q[0]>;\n",
    "        H<q[1]>;\n",
    "        M<q[0,1]>;\n",
    "    }\n",
    "    '''"
   ]
  },
  {
   "cell_type": "code",
   "execution_count": 8,
   "metadata": {},
   "outputs": [],
   "source": [
    "def get_exception(theta)->float :\n",
    "    '''\n",
    "    thetas制备时角度\n",
    "    e_n<= E_N，测量第n个能量e\n",
    "    '''\n",
    "    theta = float(theta)\n",
    "    E_N=5\n",
    "    exceptions = list()\n",
    "    hs=[-0.4804,+0.3435,-0.4347,+0.5716,+0.0910,+0.0910]\n",
    "    exceptions.append(hs[0])\n",
    "    for e_n in range(E_N) :\n",
    "        test_res=H_2(theta,e_n)\n",
    "        exception = 0\n",
    "        for measure_res in test_res :\n",
    "            frequency = test_res[measure_res]/100\n",
    "            #频率代替概率\n",
    "            parity = (-1)**(measure_res.count('1')%2)\n",
    "            #奇偶校验\n",
    "            exception += parity*frequency\n",
    "        exceptions.append(hs[e_n+1]*exception)\n",
    "    return sum(exceptions)"
   ]
  },
  {
   "cell_type": "code",
   "execution_count": 9,
   "metadata": {},
   "outputs": [],
   "source": [
    "# nelder-mead optimization of a convex function\n",
    "from scipy.optimize import minimize\n",
    "from numpy.random import rand\n",
    " \n",
    "# objective function\n",
    "\n",
    "# define range for theta\n",
    "theta_min, theta_max = -3.14, 3.14\n",
    "# define the starting point as a random sample from the domain\n",
    "pt = theta_min + rand(1) * (theta_max - theta_min)"
   ]
  },
  {
   "cell_type": "code",
   "execution_count": 10,
   "metadata": {},
   "outputs": [
    {
     "name": "stdout",
     "output_type": "stream",
     "text": [
      "Status : Maximum number of function evaluations has been exceeded.\n",
      "Total Evaluations: 200\n",
      "Solution: H_2([2.8095497]) = -1.841338 Eh\n"
     ]
    }
   ],
   "source": [
    "# perform the search\n",
    "result = minimize(get_exception, pt, method='nelder-mead')\n",
    "# summarize the result\n",
    "print(f\"Status : {result['message']}\")\n",
    "print(f\"Total Evaluations: {result['nfev']}\")\n",
    "# evaluate solution\n",
    "solution = result['x']\n",
    "evaluation = get_exception(solution)\n",
    "print(f\"Solution: H_2({solution}) = {evaluation} Eh\")"
   ]
  }
 ],
 "metadata": {
  "kernelspec": {
   "display_name": "Python 3.9.7 64-bit",
   "language": "python",
   "name": "python3"
  },
  "language_info": {
   "codemirror_mode": {
    "name": "ipython",
    "version": 3
   },
   "file_extension": ".py",
   "mimetype": "text/x-python",
   "name": "python",
   "nbconvert_exporter": "python",
   "pygments_lexer": "ipython3",
   "version": "3.9.7"
  },
  "orig_nbformat": 4,
  "vscode": {
   "interpreter": {
    "hash": "5db3ebb87acd543dfb3e054fe50afe6126b5ad899d3200490f30915be7166edf"
   }
  }
 },
 "nbformat": 4,
 "nbformat_minor": 2
}
