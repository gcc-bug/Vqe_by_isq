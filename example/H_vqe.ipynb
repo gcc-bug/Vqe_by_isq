{
 "cells": [
  {
   "cell_type": "code",
   "execution_count": 1,
   "metadata": {},
   "outputs": [],
   "source": [
    "from isq import isq"
   ]
  },
  {
   "cell_type": "code",
   "execution_count": 2,
   "metadata": {},
   "outputs": [],
   "source": [
    "@isq.qpu(backend=\"simulate\", shots=100)\n",
    "#len(thetas=15),E_N=14\n",
    "def H_2(thetas,e_n):\n",
    "    '''\n",
    "    qbit q[2];\n",
    "    X<q[0]> ;\n",
    "\n",
    "    Ry(1.57)<q[0]>;\n",
    "    Rx(-1.57)<q[1]>;\n",
    "    CNOT<q[0],q[1]>;\n",
    "    Rz(theta)<q[1]>;\n",
    "    CNOT<q[0],q[1]>;\n",
    "    Ry(-1.57)<q[0]>;\n",
    "    Rx(1.57)<q[1]>;\n",
    "\n",
    "    M\n",
    "\n",
    "    '''"
   ]
  },
  {
   "cell_type": "code",
   "execution_count": 3,
   "metadata": {},
   "outputs": [],
   "source": [
    "def get_exception(thetas : list,E_N : int)->float :\n",
    "    '''\n",
    "    thetas制备时角度\n",
    "    e_n<= E_N，测量第n个能量e\n",
    "    '''\n",
    "    exceptions = list()\n",
    "    for e_n in range(E_N) :\n",
    "        test_res=H_2(thetas,e_n)\n",
    "        exception = 0\n",
    "        for measure_res in test_res :\n",
    "            frequency = test_res[measure_res]/100\n",
    "            #频率代替概率\n",
    "            parity = (-1)**measure_res.count('1')%2\n",
    "            #奇偶效验\n",
    "            exception += parity*frequency\n",
    "        exceptions.append(exception)\n",
    "    return sum(exceptions)"
   ]
  },
  {
   "cell_type": "code",
   "execution_count": 5,
   "metadata": {},
   "outputs": [
    {
     "data": {
      "text/plain": [
       "14.0"
      ]
     },
     "execution_count": 5,
     "metadata": {},
     "output_type": "execute_result"
    }
   ],
   "source": [
    "get_exception([0,0,1,0,0,0,0,0,0,0,0,0,0,0,0],14)"
   ]
  }
 ],
 "metadata": {
  "kernelspec": {
   "display_name": "Python 3.9.7 64-bit",
   "language": "python",
   "name": "python3"
  },
  "language_info": {
   "codemirror_mode": {
    "name": "ipython",
    "version": 3
   },
   "file_extension": ".py",
   "mimetype": "text/x-python",
   "name": "python",
   "nbconvert_exporter": "python",
   "pygments_lexer": "ipython3",
   "version": "3.9.7"
  },
  "orig_nbformat": 4,
  "vscode": {
   "interpreter": {
    "hash": "5db3ebb87acd543dfb3e054fe50afe6126b5ad899d3200490f30915be7166edf"
   }
  }
 },
 "nbformat": 4,
 "nbformat_minor": 2
}
