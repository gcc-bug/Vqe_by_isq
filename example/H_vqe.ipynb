{
 "cells": [
  {
   "cell_type": "code",
   "execution_count": 17,
   "metadata": {},
   "outputs": [],
   "source": [
    "from isq import isq"
   ]
  },
  {
   "cell_type": "code",
   "execution_count": 18,
   "metadata": {},
   "outputs": [
    {
     "ename": "CoreError",
     "evalue": "\"simulate-fast\" backend is not support, only \"simulate\" or \"qcis\"",
     "output_type": "error",
     "traceback": [
      "\u001b[1;31m---------------------------------------------------------------------------\u001b[0m",
      "\u001b[1;31mCoreError\u001b[0m                                 Traceback (most recent call last)",
      "\u001b[1;32m~\\AppData\\Local\\Temp/ipykernel_348/4106945432.py\u001b[0m in \u001b[0;36m<module>\u001b[1;34m\u001b[0m\n\u001b[0;32m      1\u001b[0m \u001b[1;33m@\u001b[0m\u001b[0misq\u001b[0m\u001b[1;33m.\u001b[0m\u001b[0mqpu\u001b[0m\u001b[1;33m(\u001b[0m\u001b[0mbackend\u001b[0m\u001b[1;33m=\u001b[0m\u001b[1;34m\"simulate-fast\"\u001b[0m\u001b[1;33m,\u001b[0m \u001b[0mshots\u001b[0m\u001b[1;33m=\u001b[0m\u001b[1;36m100\u001b[0m\u001b[1;33m)\u001b[0m\u001b[1;33m\u001b[0m\u001b[1;33m\u001b[0m\u001b[0m\n\u001b[0;32m      2\u001b[0m \u001b[1;31m#theta:float,E_N=5\u001b[0m\u001b[1;33m\u001b[0m\u001b[1;33m\u001b[0m\u001b[0m\n\u001b[1;32m----> 3\u001b[1;33m \u001b[1;32mdef\u001b[0m \u001b[0mH_2\u001b[0m\u001b[1;33m(\u001b[0m\u001b[0mtheta\u001b[0m\u001b[1;33m,\u001b[0m\u001b[0me_n\u001b[0m\u001b[1;33m)\u001b[0m\u001b[1;33m:\u001b[0m\u001b[1;33m\u001b[0m\u001b[1;33m\u001b[0m\u001b[0m\n\u001b[0m\u001b[0;32m      4\u001b[0m     '''\n\u001b[0;32m      5\u001b[0m     \u001b[0mqbit\u001b[0m \u001b[0mq\u001b[0m\u001b[1;33m[\u001b[0m\u001b[1;36m2\u001b[0m\u001b[1;33m]\u001b[0m\u001b[1;33m;\u001b[0m\u001b[1;33m\u001b[0m\u001b[1;33m\u001b[0m\u001b[0m\n",
      "\u001b[1;32mc:\\Users\\coldcat\\AppData\\Local\\Programs\\Python\\Python39\\lib\\site-packages\\isq-0.1-py3.9.egg\\isq\\isq.py\u001b[0m in \u001b[0;36m__call__\u001b[1;34m(self, f)\u001b[0m\n\u001b[0;32m    152\u001b[0m \u001b[1;33m\u001b[0m\u001b[0m\n\u001b[0;32m    153\u001b[0m     \u001b[1;32mdef\u001b[0m \u001b[0m__call__\u001b[0m\u001b[1;33m(\u001b[0m\u001b[0mself\u001b[0m\u001b[1;33m,\u001b[0m \u001b[0mf\u001b[0m\u001b[1;33m)\u001b[0m\u001b[1;33m:\u001b[0m\u001b[1;33m\u001b[0m\u001b[1;33m\u001b[0m\u001b[0m\n\u001b[1;32m--> 154\u001b[1;33m         \u001b[0mcor\u001b[0m \u001b[1;33m=\u001b[0m \u001b[0mquantumCor\u001b[0m\u001b[1;33m(\u001b[0m\u001b[0mf\u001b[0m\u001b[1;33m,\u001b[0m \u001b[1;33m*\u001b[0m\u001b[0mself\u001b[0m\u001b[1;33m.\u001b[0m\u001b[0margs\u001b[0m\u001b[1;33m,\u001b[0m \u001b[1;33m**\u001b[0m\u001b[0mself\u001b[0m\u001b[1;33m.\u001b[0m\u001b[0mkwargs\u001b[0m\u001b[1;33m)\u001b[0m\u001b[1;33m\u001b[0m\u001b[1;33m\u001b[0m\u001b[0m\n\u001b[0m\u001b[0;32m    155\u001b[0m         \u001b[1;32mreturn\u001b[0m \u001b[0mcor\u001b[0m\u001b[1;33m\u001b[0m\u001b[1;33m\u001b[0m\u001b[0m\n",
      "\u001b[1;32mc:\\Users\\coldcat\\AppData\\Local\\Programs\\Python\\Python39\\lib\\site-packages\\isq-0.1-py3.9.egg\\isq\\isq.py\u001b[0m in \u001b[0;36m__init__\u001b[1;34m(self, f, *args, **kwargs)\u001b[0m\n\u001b[0;32m     70\u001b[0m \u001b[1;33m\u001b[0m\u001b[0m\n\u001b[0;32m     71\u001b[0m         \u001b[1;32mif\u001b[0m \u001b[0mself\u001b[0m\u001b[1;33m.\u001b[0m\u001b[0mbackend\u001b[0m \u001b[1;32mnot\u001b[0m \u001b[1;32min\u001b[0m \u001b[1;33m[\u001b[0m\u001b[1;34m'simulate'\u001b[0m\u001b[1;33m,\u001b[0m \u001b[1;34m'qcis'\u001b[0m\u001b[1;33m]\u001b[0m\u001b[1;33m:\u001b[0m\u001b[1;33m\u001b[0m\u001b[1;33m\u001b[0m\u001b[0m\n\u001b[1;32m---> 72\u001b[1;33m             \u001b[1;32mraise\u001b[0m \u001b[0mCoreError\u001b[0m\u001b[1;33m(\u001b[0m\u001b[1;34m'\"{}\" backend is not support, only \"simulate\" or \"qcis\"'\u001b[0m\u001b[1;33m.\u001b[0m\u001b[0mformat\u001b[0m\u001b[1;33m(\u001b[0m\u001b[0mself\u001b[0m\u001b[1;33m.\u001b[0m\u001b[0mbackend\u001b[0m\u001b[1;33m)\u001b[0m\u001b[1;33m)\u001b[0m\u001b[1;33m\u001b[0m\u001b[1;33m\u001b[0m\u001b[0m\n\u001b[0m\u001b[0;32m     73\u001b[0m \u001b[1;33m\u001b[0m\u001b[0m\n\u001b[0;32m     74\u001b[0m         \u001b[1;31m#get run time\u001b[0m\u001b[1;33m\u001b[0m\u001b[1;33m\u001b[0m\u001b[0m\n",
      "\u001b[1;31mCoreError\u001b[0m: \"simulate-fast\" backend is not support, only \"simulate\" or \"qcis\""
     ]
    }
   ],
   "source": [
    "@isq.qpu(backend=\"simulate-fast\", shots=100)\n",
    "#theta:float,E_N=5\n",
    "def H_2(theta,e_n):\n",
    "    '''\n",
    "    qbit q[2];\n",
    "    X<q[1]>;\n",
    "\n",
    "    Ry(1.57)<q[0]>;\n",
    "    Rx(4.71)<q[1]>;\n",
    "    CNOT<q[0],q[1]>;\n",
    "    Rz(theta)<q[1]>;\n",
    "    CNOT<q[0],q[1]>;\n",
    "    Ry(4.71)<q[0]>;\n",
    "    Rx(1.57)<q[1]>;\n",
    "\n",
    "    if(e_n== 0){\n",
    "        M<q[0]>;\n",
    "    }\n",
    "    if(e_n==1){\n",
    "        M<q[1]>;\n",
    "    }\n",
    "    if(e_n==2){\n",
    "        M<q[0,1]>;\n",
    "    }\n",
    "    if(e_n==3){\n",
    "        Rx(1.57)<q[0]>;\n",
    "        Rx(1.57)<q[1]>;\n",
    "        M<q[0,1]>;\n",
    "    }\n",
    "    if(e_n==4){\n",
    "        H<q[0]>;\n",
    "        H<q[1]>;\n",
    "        M<q[0,1]>;\n",
    "    }\n",
    "    '''"
   ]
  },
  {
   "cell_type": "code",
   "execution_count": null,
   "metadata": {},
   "outputs": [],
   "source": [
    "def get_exception(theta)->float :\n",
    "    '''\n",
    "    thetas制备时角度\n",
    "    e_n<= E_N，测量第n个能量e\n",
    "    '''\n",
    "    theta = float(theta)\n",
    "    E_N=5\n",
    "    exceptions = list()\n",
    "    hs=[-0.4804,+0.3435,-0.4347,+0.5716,+0.0910,+0.0910]\n",
    "    exceptions.append(hs[0])\n",
    "    for e_n in range(E_N) :\n",
    "        test_res=H_2(theta,e_n)\n",
    "        exception = 0\n",
    "        for measure_res in test_res :\n",
    "            frequency = test_res[measure_res]/100\n",
    "            #频率代替概率\n",
    "            parity = (-1)**(measure_res.count('1')%2)\n",
    "            #奇偶校验\n",
    "            exception += parity*frequency\n",
    "        exceptions.append(hs[e_n+1]*exception)\n",
    "    return sum(exceptions)"
   ]
  },
  {
   "cell_type": "code",
   "execution_count": null,
   "metadata": {},
   "outputs": [
    {
     "ename": "CoreError",
     "evalue": "语法错误: in line: 12, can not parser the sentence at token: '('",
     "output_type": "error",
     "traceback": [
      "\u001b[1;31m---------------------------------------------------------------------------\u001b[0m",
      "\u001b[1;31mCoreError\u001b[0m                                 Traceback (most recent call last)",
      "\u001b[1;32m~\\AppData\\Local\\Temp/ipykernel_348/3831888741.py\u001b[0m in \u001b[0;36m<module>\u001b[1;34m\u001b[0m\n\u001b[1;32m----> 1\u001b[1;33m \u001b[0mH_2\u001b[0m\u001b[1;33m(\u001b[0m\u001b[1;36m0\u001b[0m\u001b[1;33m,\u001b[0m\u001b[1;36m3\u001b[0m\u001b[1;33m)\u001b[0m\u001b[1;33m\u001b[0m\u001b[1;33m\u001b[0m\u001b[0m\n\u001b[0m",
      "\u001b[1;32mc:\\Users\\coldcat\\AppData\\Local\\Programs\\Python\\Python39\\lib\\site-packages\\isq-0.1-py3.9.egg\\isq\\isq.py\u001b[0m in \u001b[0;36m__call__\u001b[1;34m(self, *args, **kwargs)\u001b[0m\n\u001b[0;32m     93\u001b[0m         \u001b[0mres\u001b[0m \u001b[1;33m=\u001b[0m \u001b[0mcompile\u001b[0m\u001b[1;33m(\u001b[0m\u001b[0mir\u001b[0m\u001b[1;33m,\u001b[0m \u001b[0mcode\u001b[0m\u001b[1;33m,\u001b[0m \u001b[0mquantumCor\u001b[0m\u001b[1;33m.\u001b[0m\u001b[0m__gate\u001b[0m\u001b[1;33m,\u001b[0m \u001b[0mpar\u001b[0m\u001b[1;33m)\u001b[0m\u001b[1;33m\u001b[0m\u001b[1;33m\u001b[0m\u001b[0m\n\u001b[0;32m     94\u001b[0m         \u001b[1;32mif\u001b[0m \u001b[0mres\u001b[0m \u001b[1;33m==\u001b[0m \u001b[1;33m-\u001b[0m\u001b[1;36m1\u001b[0m\u001b[1;33m:\u001b[0m\u001b[1;33m\u001b[0m\u001b[1;33m\u001b[0m\u001b[0m\n\u001b[1;32m---> 95\u001b[1;33m             \u001b[1;32mraise\u001b[0m \u001b[0mCoreError\u001b[0m\u001b[1;33m(\u001b[0m\u001b[0mir\u001b[0m\u001b[1;33m.\u001b[0m\u001b[0merror\u001b[0m\u001b[1;33m)\u001b[0m\u001b[1;33m\u001b[0m\u001b[1;33m\u001b[0m\u001b[0m\n\u001b[0m\u001b[0;32m     96\u001b[0m \u001b[1;33m\u001b[0m\u001b[0m\n\u001b[0;32m     97\u001b[0m         \u001b[0mquantumCor\u001b[0m\u001b[1;33m.\u001b[0m\u001b[0m__ir\u001b[0m \u001b[1;33m=\u001b[0m \u001b[0mir\u001b[0m\u001b[1;33m.\u001b[0m\u001b[0mout\u001b[0m\u001b[1;33m\u001b[0m\u001b[1;33m\u001b[0m\u001b[0m\n",
      "\u001b[1;31mCoreError\u001b[0m: 语法错误: in line: 12, can not parser the sentence at token: '('"
     ]
    }
   ],
   "source": [
    "H_2(0,3)"
   ]
  },
  {
   "cell_type": "code",
   "execution_count": null,
   "metadata": {},
   "outputs": [],
   "source": [
    "# nelder-mead optimization of a convex function\n",
    "from scipy.optimize import minimize\n",
    "from numpy.random import rand\n",
    "\n",
    "# define range for theta\n",
    "theta_min, theta_max = -3.14, 3.14\n",
    "# define the starting point as a random sample from the domain\n",
    "pt = theta_min + rand(1) * (theta_max - theta_min)"
   ]
  },
  {
   "cell_type": "code",
   "execution_count": null,
   "metadata": {},
   "outputs": [],
   "source": [
    "# perform the search\n",
    "result = minimize(get_exception, pt, method='nelder-mead')\n",
    "# summarize the result\n",
    "print(f\"Status : {result['message']}\")\n",
    "print(f\"Total Evaluations: {result['nfev']}\")\n",
    "# evaluate solution\n",
    "solution = result['x']\n",
    "evaluation = get_exception(solution)\n",
    "print(f\"Solution: H_2({solution}) = {evaluation} Eh\")"
   ]
  }
 ],
 "metadata": {
  "kernelspec": {
   "display_name": "Python 3.9.7 64-bit",
   "language": "python",
   "name": "python3"
  },
  "language_info": {
   "codemirror_mode": {
    "name": "ipython",
    "version": 3
   },
   "file_extension": ".py",
   "mimetype": "text/x-python",
   "name": "python",
   "nbconvert_exporter": "python",
   "pygments_lexer": "ipython3",
   "version": "3.9.7"
  },
  "orig_nbformat": 4,
  "vscode": {
   "interpreter": {
    "hash": "5db3ebb87acd543dfb3e054fe50afe6126b5ad899d3200490f30915be7166edf"
   }
  }
 },
 "nbformat": 4,
 "nbformat_minor": 2
}
