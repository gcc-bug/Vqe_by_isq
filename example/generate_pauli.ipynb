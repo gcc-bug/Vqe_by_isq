{
 "cells": [
  {
   "cell_type": "code",
   "execution_count": 26,
   "metadata": {},
   "outputs": [],
   "source": [
    "def gates(pauli,num) :\n",
    "    res = \"\"\n",
    "    gate = pauli[0::2]\n",
    "    location = pauli[1::2]\n",
    "    if not len(location) == len(set(location)) :\n",
    "        raise Exception(\"重复元素\") \n",
    "    for i in range(len(gate)):\n",
    "        if gate[i] == 'X' :\n",
    "            res += f\"H<q[{location[i]}]>;\\n\"\n",
    "        elif gate[i] == 'Y' :\n",
    "            res += f\"Rx(1.57)<q[{location[i]}]>;\\n\"\n",
    "    for i in range(len(location)) :\n",
    "        res += f\"CNOT<q[{location[i]}],q[{pauli[-1]}]>;\\n\"\n",
    "    res += f\"Rz(thetas[{num}])<q[{pauli[-1]}]>;\\n\"\n",
    "    for i in range(len(location)) :\n",
    "        res += f\"CNOT<q[{location[i]}],q[{pauli[-1]}]>;\\n\"\n",
    "    for i in range(len(gate)-1,-1,-1) :\n",
    "        if gate[i] == 'X' :\n",
    "            res += f\"H<q[{location[i]}]>;\\n\"\n",
    "        elif gate[i] == 'Y' :\n",
    "            res += f\"Rx(1.57)<q[{location[i]}]>;\\n\"\n",
    "    \n",
    "    return res"
   ]
  },
  {
   "cell_type": "code",
   "execution_count": 28,
   "metadata": {},
   "outputs": [
    {
     "name": "stdout",
     "output_type": "stream",
     "text": [
      "H<q[0]>;\n",
      "Rx(1.57)<q[1]>;\n",
      "CNOT<q[0],q[3]>;\n",
      "CNOT<q[1],q[3]>;\n",
      "CNOT<q[2],q[3]>;\n",
      "CNOT<q[3],q[3]>;\n",
      "Rz(thetas[2])<q[3]>;\n",
      "CNOT<q[0],q[3]>;\n",
      "CNOT<q[1],q[3]>;\n",
      "CNOT<q[2],q[3]>;\n",
      "CNOT<q[3],q[3]>;\n",
      "Rx(1.57)<q[1]>;\n",
      "H<q[0]>;\n",
      "\n"
     ]
    }
   ],
   "source": [
    "paulis=[\"X0Y1\",\"X0Y4\",\"X0Y1Z2Z3\"]\n",
    "print(gates(paulis[2],2))"
   ]
  },
  {
   "cell_type": "code",
   "execution_count": 23,
   "metadata": {},
   "outputs": [
    {
     "data": {
      "text/plain": [
       "[5, 4, 3, 2, 1]"
      ]
     },
     "execution_count": 23,
     "metadata": {},
     "output_type": "execute_result"
    }
   ],
   "source": [
    "list(range(5,0,-1))"
   ]
  }
 ],
 "metadata": {
  "kernelspec": {
   "display_name": "Python 3.9.7 64-bit",
   "language": "python",
   "name": "python3"
  },
  "language_info": {
   "codemirror_mode": {
    "name": "ipython",
    "version": 3
   },
   "file_extension": ".py",
   "mimetype": "text/x-python",
   "name": "python",
   "nbconvert_exporter": "python",
   "pygments_lexer": "ipython3",
   "version": "3.9.7"
  },
  "orig_nbformat": 4,
  "vscode": {
   "interpreter": {
    "hash": "5db3ebb87acd543dfb3e054fe50afe6126b5ad899d3200490f30915be7166edf"
   }
  }
 },
 "nbformat": 4,
 "nbformat_minor": 2
}
