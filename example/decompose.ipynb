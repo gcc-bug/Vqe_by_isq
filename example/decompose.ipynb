{
 "cells": [
  {
   "cell_type": "code",
   "execution_count": 1,
   "metadata": {},
   "outputs": [],
   "source": [
    "import numpy as np"
   ]
  },
  {
   "cell_type": "code",
   "execution_count": 2,
   "metadata": {},
   "outputs": [],
   "source": [
    "# Pauli matrices\n",
    "I  = np.array([[ 1, 0],\n",
    "               [ 0, 1]])\n",
    "Sx = np.array([[ 0, 1],\n",
    "               [ 1, 0]])\n",
    "Sy = np.array([[ 0,-1j],\n",
    "               [1j, 0]])\n",
    "Sz = np.array([[ 1, 0],\n",
    "               [ 0,-1]])\n",
    "\n",
    "# single qubit basis states |0> and |1>\n",
    "q0 = np.array([[1],\n",
    "               [0]])\n",
    "q1 = np.array([[0],\n",
    "               [1]])"
   ]
  },
  {
   "cell_type": "code",
   "execution_count": 3,
   "metadata": {},
   "outputs": [],
   "source": [
    "def insert_p(n:int,n_i:int):\n",
    "    if not n_i < n :\n",
    "        raise Exception(\"n_i must be less than n\")\n",
    "    if n_i == 0:\n",
    "        qubit = q1\n",
    "    else :\n",
    "        qubit = q0\n",
    "        for i in range(n_i - 1) :\n",
    "            qubit = np.kron(qubit,q0)\n",
    "        qubit = np.kron(qubit,q1)\n",
    "    for i in range(n_i+1,n):\n",
    "        qubit = np.kron(qubit,q0)\n",
    "    return qubit"
   ]
  },
  {
   "cell_type": "code",
   "execution_count": 4,
   "metadata": {},
   "outputs": [],
   "source": [
    "def insert_pauli(n:int,p:np.array,n_i:int):\n",
    "    if not n_i < n :\n",
    "        raise Exception(\"n_i must be less than n\")\n",
    "    if n_i == 0:\n",
    "        cir = p\n",
    "    else :\n",
    "        cir = I\n",
    "        for i in range(n_i - 1) :\n",
    "            cir = np.kron(cir,I)\n",
    "        cir = np.kron(cir,p)\n",
    "    for i in range(n_i+1,n):\n",
    "        cir = np.kron(cir,I)\n",
    "    return cir"
   ]
  },
  {
   "cell_type": "code",
   "execution_count": 41,
   "metadata": {},
   "outputs": [],
   "source": [
    "def decompose_pauli(H:np.array):\n",
    "    pauli = \"\"\n",
    "    while np.shape(H)[0] >1 :\n",
    "        up_down = np.vsplit(H,2)\n",
    "        up = np.hsplit(up_down[0],2)\n",
    "        down = np.hsplit(up_down[1],2)\n",
    "        if np.linalg.det(up[0]) == 0 :\n",
    "            if np.all(up[1]==down[0]) : pauli += 'X'\n",
    "            else : pauli += 'Y'\n",
    "            H = up[1]\n",
    "        else :\n",
    "            if np.all(up[0]==down[1]) : pauli += 'I'\n",
    "            else : pauli += 'Z'\n",
    "            H = up[0]\n",
    "    return [abs(H[0][0]),pauli]"
   ]
  },
  {
   "cell_type": "code",
   "execution_count": 45,
   "metadata": {},
   "outputs": [
    {
     "data": {
      "text/plain": [
       "[0.58, 'ZZZ']"
      ]
     },
     "execution_count": 45,
     "metadata": {},
     "output_type": "execute_result"
    }
   ],
   "source": [
    "H= 0.58 *np.kron(np.kron(Sz,Sz),Sz)\n",
    "decompose_pauli(H)"
   ]
  },
  {
   "cell_type": "code",
   "execution_count": 43,
   "metadata": {},
   "outputs": [
    {
     "name": "stdout",
     "output_type": "stream",
     "text": [
      "0.58\n"
     ]
    }
   ],
   "source": [
    "pauli = \"\"\n",
    "while np.shape(H)[0] >1 :\n",
    "    up_down = np.vsplit(H,2)\n",
    "    up = np.hsplit(up_down[0],2)\n",
    "    down = np.hsplit(up_down[1],2)\n",
    "    if np.linalg.det(up[0]) == 0 :\n",
    "        if np.all(up[1]==down[0]) : pauli += 'X'\n",
    "        else : pauli += 'Y'\n",
    "        H = up[1]\n",
    "    else :\n",
    "        if np.all(up[0]==down[1]) : pauli += 'I'\n",
    "        else : pauli += 'Z'\n",
    "        H = up[0]\n",
    "print(abs(H[0][0]))"
   ]
  },
  {
   "cell_type": "code",
   "execution_count": null,
   "metadata": {},
   "outputs": [
    {
     "name": "stdout",
     "output_type": "stream",
     "text": [
      "80\n",
      "0j\n",
      "0j\n",
      "0j\n",
      "0j\n",
      "0j\n",
      "0j\n",
      "0j\n",
      "0j\n",
      "0j\n",
      "0j\n",
      "0j\n",
      "0j\n",
      "0j\n",
      "0j\n",
      "0j\n",
      "0j\n",
      "0j\n",
      "0j\n",
      "0j\n",
      "0j\n",
      "0j\n",
      "0j\n",
      "0j\n",
      "0j\n",
      "0j\n",
      "0j\n",
      "0j\n",
      "0j\n",
      "0j\n",
      "0j\n",
      "(8+0j)\n",
      "0j\n",
      "0j\n",
      "0j\n",
      "0j\n",
      "0j\n",
      "0j\n",
      "0j\n",
      "0j\n",
      "0j\n",
      "0j\n",
      "0j\n",
      "0j\n",
      "0j\n",
      "0j\n",
      "0j\n",
      "0j\n",
      "0j\n",
      "0j\n",
      "0j\n",
      "0j\n",
      "0j\n",
      "0j\n",
      "0j\n",
      "0j\n",
      "0j\n",
      "0j\n",
      "0j\n",
      "0j\n",
      "0j\n",
      "0j\n",
      "0j\n",
      "0j\n",
      "0j\n"
     ]
    }
   ],
   "source": [
    "n = int(np.log2(H.shape[0]))\n",
    "res = [I,Sx,Sy,Sz]\n",
    "s = 0\n",
    "for i in range(n-1) :\n",
    "    stack_len = len(res)\n",
    "    for i in range(stack_len) :\n",
    "        s+=4\n",
    "        tmp=res.pop(0)\n",
    "        res.append(np.kron(tmp,I))\n",
    "        res.append(np.kron(tmp,Sx))\n",
    "        res.append(np.kron(tmp,Sy))\n",
    "        res.append(np.kron(tmp,Sz))\n",
    "print(s)\n",
    "for i in res:\n",
    "    print(np.trace(np.dot(i,H)))"
   ]
  },
  {
   "cell_type": "code",
   "execution_count": null,
   "metadata": {},
   "outputs": [
    {
     "name": "stdout",
     "output_type": "stream",
     "text": [
      "[1, 2]\n"
     ]
    }
   ],
   "source": [
    "a = [0,1,2]\n",
    "a.pop(0)\n",
    "print(a)"
   ]
  }
 ],
 "metadata": {
  "kernelspec": {
   "display_name": "Python 3.10.5 64-bit",
   "language": "python",
   "name": "python3"
  },
  "language_info": {
   "codemirror_mode": {
    "name": "ipython",
    "version": 3
   },
   "file_extension": ".py",
   "mimetype": "text/x-python",
   "name": "python",
   "nbconvert_exporter": "python",
   "pygments_lexer": "ipython3",
   "version": "3.10.5"
  },
  "orig_nbformat": 4,
  "vscode": {
   "interpreter": {
    "hash": "4073208808314e076011a71f78349c0d2690a9f6a1fd66e76e33e1a300837f37"
   }
  }
 },
 "nbformat": 4,
 "nbformat_minor": 2
}
